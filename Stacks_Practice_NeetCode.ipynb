{
  "nbformat": 4,
  "nbformat_minor": 0,
  "metadata": {
    "colab": {
      "provenance": [],
      "authorship_tag": "ABX9TyOvjVMGSkFEoKfIlh098gcw",
      "include_colab_link": true
    },
    "kernelspec": {
      "name": "python3",
      "display_name": "Python 3"
    },
    "language_info": {
      "name": "python"
    }
  },
  "cells": [
    {
      "cell_type": "markdown",
      "metadata": {
        "id": "view-in-github",
        "colab_type": "text"
      },
      "source": [
        "<a href=\"https://colab.research.google.com/github/kaladin123/DSA-Practice/blob/main/Stacks_Practice_NeetCode.ipynb\" target=\"_parent\"><img src=\"https://colab.research.google.com/assets/colab-badge.svg\" alt=\"Open In Colab\"/></a>"
      ]
    },
    {
      "cell_type": "markdown",
      "source": [
        "# Base Ball Game"
      ],
      "metadata": {
        "id": "PWzZh_Gk0kX0"
      }
    },
    {
      "cell_type": "code",
      "execution_count": 7,
      "metadata": {
        "colab": {
          "base_uri": "https://localhost:8080/"
        },
        "id": "UnR7NGap0a-5",
        "outputId": "df5cd5ac-6765-4a5f-aa39-03d4ec324c9a"
      },
      "outputs": [
        {
          "output_type": "stream",
          "name": "stdout",
          "text": [
            "27\n"
          ]
        }
      ],
      "source": [
        "from collections import deque\n",
        "\n",
        "stack = deque()\n",
        "\n",
        "for element in [\"5\",\"-2\",\"4\",\"C\",\"D\",\"9\",\"+\",\"+\"]:\n",
        "  # print(stack)\n",
        "  # print(element)\n",
        "\n",
        "  if element == \"D\":\n",
        "    stack.append(stack[-1]*2)\n",
        "  elif element == \"C\":\n",
        "    stack.pop()\n",
        "  elif element == '+':\n",
        "    stack.append(stack[-1] + stack[-2])\n",
        "  else:\n",
        "    stack.append(eval(element))\n",
        "\n",
        "print(sum(stack))\n"
      ]
    },
    {
      "cell_type": "markdown",
      "source": [
        "# Valid Parenthesis"
      ],
      "metadata": {
        "id": "lx46P8yq5qLk"
      }
    },
    {
      "cell_type": "code",
      "source": [
        "\"[()[]{}]\"\n",
        "\n",
        "\n"
      ],
      "metadata": {
        "colab": {
          "base_uri": "https://localhost:8080/"
        },
        "id": "F21WqHnI2Lv0",
        "outputId": "0fee8bc7-2e2e-400d-eea4-c5981b6ef6d2"
      },
      "execution_count": 5,
      "outputs": [
        {
          "output_type": "execute_result",
          "data": {
            "text/plain": [
              "deque([5, -2, -4, 9, 5, 14])"
            ]
          },
          "metadata": {},
          "execution_count": 5
        }
      ]
    },
    {
      "cell_type": "code",
      "source": [
        "sum(stack)"
      ],
      "metadata": {
        "colab": {
          "base_uri": "https://localhost:8080/"
        },
        "id": "VzvEnzo72MI5",
        "outputId": "b8f3fadb-896b-48c2-baea-3a9194813259"
      },
      "execution_count": 6,
      "outputs": [
        {
          "output_type": "execute_result",
          "data": {
            "text/plain": [
              "27"
            ]
          },
          "metadata": {},
          "execution_count": 6
        }
      ]
    },
    {
      "cell_type": "code",
      "source": [],
      "metadata": {
        "id": "ApvKBezv5HfN"
      },
      "execution_count": null,
      "outputs": []
    }
  ]
}